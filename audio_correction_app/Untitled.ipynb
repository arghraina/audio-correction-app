{
 "cells": [
  {
   "cell_type": "code",
   "execution_count": 1,
   "id": "229186c0-05b1-43d1-aaaf-e5ddd3e7f5b3",
   "metadata": {},
   "outputs": [
    {
     "name": "stdout",
     "output_type": "stream",
     "text": [
      "Requirement already satisfied: flask in c:\\users\\argh raina\\anaconda3\\lib\\site-packages (3.0.3)\n",
      "Requirement already satisfied: Werkzeug>=3.0.0 in c:\\users\\argh raina\\anaconda3\\lib\\site-packages (from flask) (3.0.3)\n",
      "Requirement already satisfied: Jinja2>=3.1.2 in c:\\users\\argh raina\\anaconda3\\lib\\site-packages (from flask) (3.1.4)\n",
      "Requirement already satisfied: itsdangerous>=2.1.2 in c:\\users\\argh raina\\anaconda3\\lib\\site-packages (from flask) (2.2.0)\n",
      "Requirement already satisfied: click>=8.1.3 in c:\\users\\argh raina\\anaconda3\\lib\\site-packages (from flask) (8.1.7)\n",
      "Requirement already satisfied: blinker>=1.6.2 in c:\\users\\argh raina\\anaconda3\\lib\\site-packages (from flask) (1.6.2)\n",
      "Requirement already satisfied: colorama in c:\\users\\argh raina\\anaconda3\\lib\\site-packages (from click>=8.1.3->flask) (0.4.6)\n",
      "Requirement already satisfied: MarkupSafe>=2.0 in c:\\users\\argh raina\\anaconda3\\lib\\site-packages (from Jinja2>=3.1.2->flask) (2.1.3)\n",
      "Note: you may need to restart the kernel to use updated packages.\n"
     ]
    }
   ],
   "source": [
    "pip install flask\n"
   ]
  },
  {
   "cell_type": "code",
   "execution_count": 4,
   "id": "476c5213-693d-4a74-a7b6-19e09f4eef5a",
   "metadata": {},
   "outputs": [
    {
     "name": "stdout",
     "output_type": "stream",
     "text": [
      " * Serving Flask app '__main__'\n",
      " * Debug mode: on\n"
     ]
    },
    {
     "name": "stderr",
     "output_type": "stream",
     "text": [
      "WARNING: This is a development server. Do not use it in a production deployment. Use a production WSGI server instead.\n",
      " * Running on http://127.0.0.1:5000\n",
      "Press CTRL+C to quit\n",
      " * Restarting with watchdog (windowsapi)\n"
     ]
    },
    {
     "ename": "SystemExit",
     "evalue": "1",
     "output_type": "error",
     "traceback": [
      "An exception has occurred, use %tb to see the full traceback.\n",
      "\u001b[1;31mSystemExit\u001b[0m\u001b[1;31m:\u001b[0m 1\n"
     ]
    }
   ],
   "source": [
    "from flask import Flask, request, render_template, send_file\n",
    "from google.cloud import speech, texttospeech\n",
    "import openai\n",
    "import moviepy.editor as mp\n",
    "import os\n",
    "\n",
    "# Set up your Flask app\n",
    "app = Flask(__name__)\n",
    "\n",
    "# Set up Google and OpenAI API keys\n",
    "os.environ['GOOGLE_APPLICATION_CREDENTIALS'] = 'path_to_your_google_credentials.json'\n",
    "openai.api_key = '22ec84421ec24230a3638d1b51e3a7dc'\n",
    "\n",
    "@app.route('/', methods=['GET', 'POST'])\n",
    "def index():\n",
    "    if request.method == 'POST':\n",
    "        if 'video_file' not in request.files:\n",
    "            return \"No file uploaded.\", 400\n",
    "        \n",
    "        video_file = request.files['video_file']\n",
    "        video_file.save(\"uploaded_video.mp4\")  # Save the uploaded video\n",
    "\n",
    "        # Process the video file\n",
    "        transcription = transcribe_audio(\"uploaded_video.mp4\")\n",
    "        corrected_transcription = correct_transcription(transcription)\n",
    "        new_audio_path = generate_audio(corrected_transcription)\n",
    "        output_video_path = replace_audio(\"uploaded_video.mp4\", new_audio_path)\n",
    "\n",
    "        return send_file(output_video_path, as_attachment=True)\n",
    "\n",
    "    return render_template('index.html')\n",
    "\n",
    "def transcribe_audio(video_file):\n",
    "    video = mp.VideoFileClip(video_file)\n",
    "    audio_path = \"temp_audio.wav\"\n",
    "    video.audio.write_audiofile(audio_path)\n",
    "\n",
    "    client = speech.SpeechClient()\n",
    "    with open(audio_path, \"rb\") as audio_file:\n",
    "        content = audio_file.read()\n",
    "    \n",
    "    audio = speech.RecognitionAudio(content=content)\n",
    "    config = speech.RecognitionConfig(\n",
    "        encoding=speech.RecognitionConfig.AudioEncoding.LINEAR16,\n",
    "        sample_rate_hertz=16000,\n",
    "        language_code=\"en-US\",\n",
    "    )\n",
    "    \n",
    "    response = client.recognize(config=config, audio=audio)\n",
    "    transcription = \" \".join([result.alternatives[0].transcript for result in response.results])\n",
    "    \n",
    "    return transcription\n",
    "\n",
    "def correct_transcription(transcription):\n",
    "    response = openai.ChatCompletion.create(\n",
    "        model=\"gpt-4o\",\n",
    "        messages=[\n",
    "            {\"role\": \"user\", \"content\": f\"Correct the following transcription for grammatical mistakes: '{transcription}'\"}\n",
    "        ]\n",
    "    )\n",
    "    return response['choices'][0]['message']['content']\n",
    "\n",
    "def generate_audio(text):\n",
    "    client = texttospeech.TextToSpeechClient()\n",
    "    synthesis_input = texttospeech.SynthesisInput(text=text)\n",
    "    voice = texttospeech.VoiceSelectionParams(\n",
    "        language_code=\"en-US\",\n",
    "        name=\"en-US-Standard-C\",\n",
    "    )\n",
    "    audio_config = texttospeech.AudioConfig(\n",
    "        audio_encoding=texttospeech.AudioEncoding.LINEAR16\n",
    "    )\n",
    "\n",
    "    response = client.synthesize_speech(\n",
    "        input=synthesis_input,\n",
    "        voice=voice,\n",
    "        audio_config=audio_config\n",
    "    )\n",
    "\n",
    "    audio_path = \"corrected_audio.wav\"\n",
    "    with open(audio_path, \"wb\") as out:\n",
    "        out.write(response.audio_content)\n",
    "\n",
    "    return audio_path\n",
    "\n",
    "def replace_audio(video_file, new_audio_file):\n",
    "    video = mp.VideoFileClip(video_file)\n",
    "    new_audio = mp.AudioFileClip(new_audio_file)\n",
    "    final_video = video.set_audio(new_audio)\n",
    "    output_path = \"output_video.mp4\"\n",
    "    final_video.write_videofile(output_path, codec=\"libx264\")\n",
    "    \n",
    "    return output_path\n",
    "\n",
    "if __name__ == '__main__':\n",
    "    app.run(debug=True)\n"
   ]
  },
  {
   "cell_type": "code",
   "execution_count": null,
   "id": "d29b144d-d4b8-4053-bd8d-4d6e60bdb0d7",
   "metadata": {},
   "outputs": [],
   "source": []
  }
 ],
 "metadata": {
  "kernelspec": {
   "display_name": "Python 3 (ipykernel)",
   "language": "python",
   "name": "python3"
  },
  "language_info": {
   "codemirror_mode": {
    "name": "ipython",
    "version": 3
   },
   "file_extension": ".py",
   "mimetype": "text/x-python",
   "name": "python",
   "nbconvert_exporter": "python",
   "pygments_lexer": "ipython3",
   "version": "3.12.4"
  }
 },
 "nbformat": 4,
 "nbformat_minor": 5
}
